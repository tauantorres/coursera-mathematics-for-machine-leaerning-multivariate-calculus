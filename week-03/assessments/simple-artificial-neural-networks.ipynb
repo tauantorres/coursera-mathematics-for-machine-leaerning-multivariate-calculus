{
 "cells": [
  {
   "cell_type": "code",
   "execution_count": 3,
   "metadata": {},
   "outputs": [
    {
     "name": "stdout",
     "output_type": "stream",
     "text": [
      "[ 0.76159416 -0.76159416]\n"
     ]
    }
   ],
   "source": [
    "import numpy as np\n",
    "\n",
    "sigma = np.tanh\n",
    "W = np.array([[-2, 4, -1],[6, 0, -3]])\n",
    "b = np.array([0.1, -2.5])\n",
    "\n",
    "def res_a1(a0):\n",
    "    return sigma(W @ a0 + b)\n",
    "\n",
    "a0 = np.array([0.3, 0.4, 0.1])\n",
    "a1 = res_a1(a0)\n",
    "print(a1)"
   ]
  }
 ],
 "metadata": {
  "kernelspec": {
   "display_name": "Python 3",
   "language": "python",
   "name": "python3"
  },
  "language_info": {
   "codemirror_mode": {
    "name": "ipython",
    "version": 3
   },
   "file_extension": ".py",
   "mimetype": "text/x-python",
   "name": "python",
   "nbconvert_exporter": "python",
   "pygments_lexer": "ipython3",
   "version": "3.11.4"
  }
 },
 "nbformat": 4,
 "nbformat_minor": 2
}
